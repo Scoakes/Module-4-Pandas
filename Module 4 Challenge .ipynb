{
 "cells": [
  {
   "cell_type": "code",
   "execution_count": null,
   "id": "b54c7ed8",
   "metadata": {},
   "outputs": [],
   "source": [
    "#Deliverable 1 "
   ]
  },
  {
   "cell_type": "code",
   "execution_count": null,
   "id": "7ee6e28d",
   "metadata": {},
   "outputs": [],
   "source": [
    "import pandas as pd\n",
    "import numpy as np"
   ]
  },
  {
   "cell_type": "code",
   "execution_count": null,
   "id": "6861e11f",
   "metadata": {},
   "outputs": [],
   "source": [
    "student_data = pd.DataFrame(pd.read_csv('/Users/christopheroakes/Documents/Coding Bootcamp/Module 4 - Python - Pandas/School_District_Analysis/new_student_data.csv'))\n"
   ]
  },
  {
   "cell_type": "code",
   "execution_count": null,
   "id": "8e419030",
   "metadata": {},
   "outputs": [],
   "source": [
    "# Check names.\n",
    "student_data.head(10)"
   ]
  },
  {
   "cell_type": "code",
   "execution_count": null,
   "id": "8bdff66d",
   "metadata": {},
   "outputs": [],
   "source": [
    "#Deliverable 2 "
   ]
  },
  {
   "cell_type": "code",
   "execution_count": null,
   "id": "233e6484",
   "metadata": {},
   "outputs": [],
   "source": [
    "student_data = student_data.dropna()"
   ]
  },
  {
   "cell_type": "code",
   "execution_count": null,
   "id": "05d4a86d",
   "metadata": {},
   "outputs": [],
   "source": [
    "student_data = student_data.drop_duplicates()"
   ]
  },
  {
   "cell_type": "code",
   "execution_count": null,
   "id": "aa55774f",
   "metadata": {},
   "outputs": [],
   "source": [
    "student_data.dtypes"
   ]
  },
  {
   "cell_type": "code",
   "execution_count": null,
   "id": "a1590c2d",
   "metadata": {},
   "outputs": [],
   "source": [
    "student_data['grade'] = student_data['grade'].str.replace('th','')"
   ]
  },
  {
   "cell_type": "code",
   "execution_count": null,
   "id": "84e50336",
   "metadata": {},
   "outputs": [],
   "source": [
    "student_data['grade'] = student_data['grade'].astype(int)"
   ]
  },
  {
   "cell_type": "code",
   "execution_count": null,
   "id": "bffb4f10",
   "metadata": {},
   "outputs": [],
   "source": [
    "student_data.dtypes"
   ]
  },
  {
   "cell_type": "code",
   "execution_count": null,
   "id": "283c9e88",
   "metadata": {},
   "outputs": [],
   "source": [
    "#Deliverable 3 "
   ]
  },
  {
   "cell_type": "code",
   "execution_count": null,
   "id": "6fdee23e",
   "metadata": {},
   "outputs": [],
   "source": [
    "student_data.describe()"
   ]
  },
  {
   "cell_type": "code",
   "execution_count": null,
   "id": "3ee35938",
   "metadata": {},
   "outputs": [],
   "source": [
    "student_data['math_score'].mean()"
   ]
  },
  {
   "cell_type": "code",
   "execution_count": null,
   "id": "6b380454",
   "metadata": {},
   "outputs": [],
   "source": [
    "min_reading_score = student_data['reading_score'].min()"
   ]
  },
  {
   "cell_type": "code",
   "execution_count": null,
   "id": "6feebd0a",
   "metadata": {},
   "outputs": [],
   "source": [
    "min_reading_score"
   ]
  },
  {
   "cell_type": "code",
   "execution_count": null,
   "id": "0a6d301c",
   "metadata": {},
   "outputs": [],
   "source": [
    "#Deliverable 4"
   ]
  },
  {
   "cell_type": "code",
   "execution_count": null,
   "id": "27a56dee",
   "metadata": {},
   "outputs": [],
   "source": [
    "student_data.loc['grade']"
   ]
  },
  {
   "cell_type": "code",
   "execution_count": null,
   "id": "7ab92d86",
   "metadata": {},
   "outputs": [],
   "source": [
    "student_data.iloc[[3,4,5]].head(3)"
   ]
  },
  {
   "cell_type": "code",
   "execution_count": null,
   "id": "5c770e3a",
   "metadata": {},
   "outputs": [],
   "source": [
    "student_data.iloc[2].describe()"
   ]
  },
  {
   "cell_type": "code",
   "execution_count": null,
   "id": "3320c671",
   "metadata": {},
   "outputs": [],
   "source": [
    "min_reading_row = student_data.loc[student_data['reading_score']==min_reading_score]"
   ]
  },
  {
   "cell_type": "code",
   "execution_count": null,
   "id": "a0b7af4a",
   "metadata": {},
   "outputs": [],
   "source": [
    "min_reading_row"
   ]
  },
  {
   "cell_type": "code",
   "execution_count": null,
   "id": "30967da4",
   "metadata": {},
   "outputs": [],
   "source": [
    "filtered_df = student_data.loc[(student_data['school_name']=='Dixon High School')&(student_data['grade']=='10')]"
   ]
  },
  {
   "cell_type": "code",
   "execution_count": null,
   "id": "aa366344",
   "metadata": {},
   "outputs": [],
   "source": [
    "filtered_df"
   ]
  },
  {
   "cell_type": "code",
   "execution_count": null,
   "id": "e41d2352",
   "metadata": {},
   "outputs": [],
   "source": [
    "mean_reading_score = student_data.loc[student_data['grade'].isin(['11','12']), 'reading_score'].mean()"
   ]
  },
  {
   "cell_type": "code",
   "execution_count": null,
   "id": "fdd7312e",
   "metadata": {},
   "outputs": [],
   "source": [
    "mean_reading_score"
   ]
  },
  {
   "cell_type": "code",
   "execution_count": null,
   "id": "44ee7769",
   "metadata": {},
   "outputs": [],
   "source": [
    "#Deliverable 5 - school budget column won't import"
   ]
  },
  {
   "cell_type": "code",
   "execution_count": null,
   "id": "2b2bd609",
   "metadata": {},
   "outputs": [],
   "source": [
    "student_data.groupby(['school_type'])['school_budget'].mean()"
   ]
  },
  {
   "cell_type": "code",
   "execution_count": null,
   "id": "ee151cee",
   "metadata": {},
   "outputs": [],
   "source": [
    "total_students = student_data.groupby('school_name').size()"
   ]
  },
  {
   "cell_type": "code",
   "execution_count": null,
   "id": "7dabca6b",
   "metadata": {},
   "outputs": [],
   "source": [
    "sorted_schools = total_students.sort_values()"
   ]
  },
  {
   "cell_type": "code",
   "execution_count": null,
   "id": "0ae342ef",
   "metadata": {},
   "outputs": [],
   "source": [
    "student_data.groupby(['school_type'])['math_score'].mean()"
   ]
  },
  {
   "cell_type": "code",
   "execution_count": null,
   "id": "747c8c7f",
   "metadata": {},
   "outputs": [],
   "source": []
  },
  {
   "cell_type": "code",
   "execution_count": null,
   "id": "343900a2",
   "metadata": {},
   "outputs": [],
   "source": []
  }
 ],
 "metadata": {
  "kernelspec": {
   "display_name": "PythonData",
   "language": "python",
   "name": "pythondata"
  },
  "language_info": {
   "codemirror_mode": {
    "name": "ipython",
    "version": 3
   },
   "file_extension": ".py",
   "mimetype": "text/x-python",
   "name": "python",
   "nbconvert_exporter": "python",
   "pygments_lexer": "ipython3",
   "version": "3.9.15"
  }
 },
 "nbformat": 4,
 "nbformat_minor": 5
}
